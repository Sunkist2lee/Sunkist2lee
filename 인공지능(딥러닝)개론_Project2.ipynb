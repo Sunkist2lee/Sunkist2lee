{
  "nbformat": 4,
  "nbformat_minor": 0,
  "metadata": {
    "colab": {
      "name": "인공지능(딥러닝)개론_Project2.ipynb",
      "provenance": [],
      "collapsed_sections": [],
      "authorship_tag": "ABX9TyMd9R3O5DotWUdHdJrG+rgW",
      "include_colab_link": true
    },
    "kernelspec": {
      "name": "python3",
      "display_name": "Python 3"
    },
    "language_info": {
      "name": "python"
    },
    "accelerator": "GPU"
  },
  "cells": [
    {
      "cell_type": "markdown",
      "metadata": {
        "id": "view-in-github",
        "colab_type": "text"
      },
      "source": [
        "<a href=\"https://colab.research.google.com/github/Sunkist2lee/Sunkist2lee/blob/main/%EC%9D%B8%EA%B3%B5%EC%A7%80%EB%8A%A5(%EB%94%A5%EB%9F%AC%EB%8B%9D)%EA%B0%9C%EB%A1%A0_Project2.ipynb\" target=\"_parent\"><img src=\"https://colab.research.google.com/assets/colab-badge.svg\" alt=\"Open In Colab\"/></a>"
      ]
    },
    {
      "cell_type": "markdown",
      "metadata": {
        "id": "P26zBZqtxNAL"
      },
      "source": [
        "**CIFAR10 Dataset Classifier Model by CNN (Convolution Neural Network)**"
      ]
    },
    {
      "cell_type": "markdown",
      "metadata": {
        "id": "wCtpgraQx4St"
      },
      "source": [
        "1. Module Import & Define Hyper-parameters"
      ]
    },
    {
      "cell_type": "code",
      "metadata": {
        "id": "q6O9km6uxXEk"
      },
      "source": [
        "import torch"
      ],
      "execution_count": null,
      "outputs": []
    },
    {
      "cell_type": "code",
      "metadata": {
        "id": "hjXTu5vHyN5u"
      },
      "source": [
        "## Device Configuration\n",
        "device = torch.device('cuda' if torch.cuda.is_available() else 'cpu')"
      ],
      "execution_count": null,
      "outputs": []
    },
    {
      "cell_type": "code",
      "metadata": {
        "id": "RONVsYfyPUbc"
      },
      "source": [
        "batch_size = 16\n",
        "learning_rate = 0.001\n",
        "num_epochs = 10"
      ],
      "execution_count": null,
      "outputs": []
    },
    {
      "cell_type": "markdown",
      "metadata": {
        "id": "VYfnA4Gs0N_W"
      },
      "source": [
        "2. Load Data"
      ]
    },
    {
      "cell_type": "code",
      "metadata": {
        "id": "4_r3fKEO0_Ti"
      },
      "source": [
        "import torchvision\n",
        "import torchvision.transforms as transforms"
      ],
      "execution_count": null,
      "outputs": []
    },
    {
      "cell_type": "code",
      "metadata": {
        "colab": {
          "base_uri": "https://localhost:8080/"
        },
        "id": "diIj5khI0FYt",
        "outputId": "ed32c683-bc29-4904-8075-89a7d3766ed0"
      },
      "source": [
        "## 데이터 텐서 변환 및 정규화\n",
        "transform = transforms.Compose([transforms.ToTensor(),\n",
        "                               transforms.Normalize((0.5, 0.5, 0.5), (0.5, 0.5, 0.5))])\n",
        "\n",
        "## Load Data\n",
        "train_data = torchvision.datasets.CIFAR10(root='./datasets',\n",
        "                                        train=True,\n",
        "                                        transform=transforms.ToTensor(),\n",
        "                                        download=True)\n",
        "\n",
        "test_data = torchvision.datasets.CIFAR10(root='./datasets',\n",
        "                                       train=False,\n",
        "                                       transform=transforms.ToTensor())"
      ],
      "execution_count": null,
      "outputs": [
        {
          "output_type": "stream",
          "name": "stdout",
          "text": [
            "Files already downloaded and verified\n"
          ]
        }
      ]
    },
    {
      "cell_type": "markdown",
      "metadata": {
        "id": "BN8pqvpV1zhh"
      },
      "source": [
        "3. Define Dataloader"
      ]
    },
    {
      "cell_type": "code",
      "metadata": {
        "id": "zzPhn3r31if_"
      },
      "source": [
        "trainloader = torch.utils.data.DataLoader(train_data, batch_size=batch_size,\n",
        "                                          shuffle=True, num_workers=2)\n",
        "\n",
        "testloader = torch.utils.data.DataLoader(test_data, batch_size=batch_size,\n",
        "                                        shuffle=False, num_workers=2)"
      ],
      "execution_count": null,
      "outputs": []
    },
    {
      "cell_type": "code",
      "metadata": {
        "id": "GGcPlKSu3WKU"
      },
      "source": [
        "## CIFAR10 DATASET 클래스 정의\n",
        "classes = ('plane', 'car', 'bird', 'cat','deer', 'dog', 'frog', 'horse', 'ship', 'truck')\n"
      ],
      "execution_count": null,
      "outputs": []
    },
    {
      "cell_type": "markdown",
      "metadata": {
        "id": "90YYX9jc35cS"
      },
      "source": [
        "4. Check Images"
      ]
    },
    {
      "cell_type": "code",
      "metadata": {
        "id": "PgXBh5Su30Do"
      },
      "source": [
        "import matplotlib.pyplot as plt\n",
        "import numpy as np"
      ],
      "execution_count": null,
      "outputs": []
    },
    {
      "cell_type": "code",
      "metadata": {
        "colab": {
          "base_uri": "https://localhost:8080/",
          "height": 156
        },
        "id": "AuGrYTDS4MIk",
        "outputId": "76cd692e-cc40-459f-e7ad-4f94b56d134b"
      },
      "source": [
        "def imshow(img):\n",
        "  ## Unnormalized  \n",
        "  img = img / 2 + 0.5 \n",
        "  npimg = img.numpy()\n",
        "  plt.imshow(np.transpose(npimg, (1, 2, 0))) ## 형식 맞추기 \n",
        "  plt.show()\n",
        "\n",
        "# 학습용 이미지 뽑기\n",
        "dataiter = iter(trainloader)\n",
        "images, labels = dataiter.next()\n",
        "\n",
        "# Show Images \n",
        "imshow(torchvision.utils.make_grid(images))\n",
        "\n",
        "# 이미지별 클래스 Batch_size 개수만큼\n",
        "print(' '.join('    %5s   ' % classes[labels[j]] for j in range(4)))"
      ],
      "execution_count": null,
      "outputs": [
        {
          "output_type": "display_data",
          "data": {
            "image/png": "[encoded data removed]",
            "text/plain": [
              "<Figure size 432x288 with 1 Axes>"
            ]
          },
          "metadata": {
            "needs_background": "light"
          }
        },
        {
          "output_type": "stream",
          "name": "stdout",
          "text": [
            "    plane        truck         frog        plane   \n"
          ]
        }
      ]
    },
    {
      "cell_type": "markdown",
      "metadata": {
        "id": "osUJSR-z57CC"
      },
      "source": [
        "5. CNN 모델 구현"
      ]
    },
    {
      "cell_type": "code",
      "metadata": {
        "id": "K41yNZ986XAN"
      },
      "source": [
        "import torch.nn as nn\n",
        "import torch.nn.functional as F\n",
        "import torchsummary as summary ## layer 별 output shape 출력을 위해\n",
        "\n",
        "class Net(nn.Module):\n",
        "  def __init__(self, num_classes = 10):\n",
        "      super(Net, self).__init__()\n",
        "\n",
        "      #input = 3, 6 channel out, 5 * 5 kernal\n",
        "      self.conv1 = nn.Sequential(\n",
        "          nn.Conv2d(3, 6, 5, padding = 1),\n",
        "          nn.BatchNorm2d(6),\n",
        "          nn.ReLU(),\n",
        "          nn.MaxPool2d((2,2),stride=2)\n",
        "      )\n",
        "\n",
        "      #input = 6. 16 channel out, 3 * 3 kernal\n",
        "      self.conv2 = nn.Sequential(\n",
        "          nn.Conv2d(6, 16, 3, padding = 1),\n",
        "          nn.BatchNorm2d(16),\n",
        "          nn.ReLU(),\n",
        "          nn.MaxPool2d((2,2),stride=2)\n",
        "      )\n",
        "\n",
        "      #input = 16. 32 channel out, 3 * 3 kernal\n",
        "      self.conv3 = nn.Sequential(\n",
        "          nn.Conv2d(16, 32, 3, padding = 1), \n",
        "          nn.BatchNorm2d(32), \n",
        "          nn.ReLU(),\n",
        "          nn.MaxPool2d((2,2),stride=2)\n",
        "      )\n",
        "\n",
        "      self.fc1 = nn.Linear(288, 120)\n",
        "      self.fc2 = nn.Linear(120, 84)\n",
        "      self.fc3 = nn.Linear(84, 10)\n",
        "\n",
        "  def forward(self, x):\n",
        "      x = self.conv1(x)\n",
        "      x = self.conv2(x)\n",
        "      x = self.conv3(x)\n",
        "      x = x.reshape(x.size(0),-1)\n",
        "      x = F.relu(self.fc1(x))\n",
        "      x = F.relu(self.fc2(x))\n",
        "      x = self.fc3(x)\n",
        "      return x\n",
        "\n",
        "model = Net(10).to(device) ## 인스턴스 "
      ],
      "execution_count": null,
      "outputs": []
    },
    {
      "cell_type": "markdown",
      "metadata": {
        "id": "5Lm6k3NtNAGQ"
      },
      "source": [
        "- summary를 통한 Layer 별 Output Shape 확인"
      ]
    },
    {
      "cell_type": "code",
      "metadata": {
        "colab": {
          "base_uri": "https://localhost:8080/"
        },
        "id": "y5yCQp6RMTXw",
        "outputId": "e90f8b6f-8e7c-44a4-8032-2fa234d9461b"
      },
      "source": [
        "## Network Form 확인\n",
        "print(model)\n",
        "\n",
        "## check the number of parameters\n",
        "print('{:=^60}'.format(\"=\"))\n",
        "print('{:^60}'.format(\"model summary\"))\n",
        "print('{:=^60}'.format(\"=\"))\n",
        "for param_tensor in model.state_dict():\n",
        "  print('%-30s'%param_tensor, '{:^30}'.format(str(model.state_dict()[param_tensor].size())))\n",
        "print('{:=^60}'.format(\"=\"))"
      ],
      "execution_count": null,
      "outputs": [
        {
          "output_type": "stream",
          "name": "stdout",
          "text": [
            "Net(\n",
            "  (conv1): Sequential(\n",
            "    (0): Conv2d(3, 6, kernel_size=(5, 5), stride=(1, 1), padding=(1, 1))\n",
            "    (1): BatchNorm2d(6, eps=1e-05, momentum=0.1, affine=True, track_running_stats=True)\n",
            "    (2): ReLU()\n",
            "    (3): MaxPool2d(kernel_size=(2, 2), stride=2, padding=0, dilation=1, ceil_mode=False)\n",
            "  )\n",
            "  (conv2): Sequential(\n",
            "    (0): Conv2d(6, 16, kernel_size=(3, 3), stride=(1, 1), padding=(1, 1))\n",
            "    (1): BatchNorm2d(16, eps=1e-05, momentum=0.1, affine=True, track_running_stats=True)\n",
            "    (2): ReLU()\n",
            "    (3): MaxPool2d(kernel_size=(2, 2), stride=2, padding=0, dilation=1, ceil_mode=False)\n",
            "  )\n",
            "  (conv3): Sequential(\n",
            "    (0): Conv2d(16, 32, kernel_size=(3, 3), stride=(1, 1), padding=(1, 1))\n",
            "    (1): BatchNorm2d(32, eps=1e-05, momentum=0.1, affine=True, track_running_stats=True)\n",
            "    (2): ReLU()\n",
            "    (3): MaxPool2d(kernel_size=(2, 2), stride=2, padding=0, dilation=1, ceil_mode=False)\n",
            "  )\n",
            "  (fc1): Linear(in_features=288, out_features=120, bias=True)\n",
            "  (fc2): Linear(in_features=120, out_features=84, bias=True)\n",
            "  (fc3): Linear(in_features=84, out_features=10, bias=True)\n",
            ")\n",
            "============================================================\n",
            "                       model summary                        \n",
            "============================================================\n",
            "conv1.0.weight                    torch.Size([6, 3, 5, 5])   \n",
            "conv1.0.bias                          torch.Size([6])        \n",
            "conv1.1.weight                        torch.Size([6])        \n",
            "conv1.1.bias                          torch.Size([6])        \n",
            "conv1.1.running_mean                  torch.Size([6])        \n",
            "conv1.1.running_var                   torch.Size([6])        \n",
            "conv1.1.num_batches_tracked            torch.Size([])        \n",
            "conv2.0.weight                   torch.Size([16, 6, 3, 3])   \n",
            "conv2.0.bias                          torch.Size([16])       \n",
            "conv2.1.weight                        torch.Size([16])       \n",
            "conv2.1.bias                          torch.Size([16])       \n",
            "conv2.1.running_mean                  torch.Size([16])       \n",
            "conv2.1.running_var                   torch.Size([16])       \n",
            "conv2.1.num_batches_tracked            torch.Size([])        \n",
            "conv3.0.weight                   torch.Size([32, 16, 3, 3])  \n",
            "conv3.0.bias                          torch.Size([32])       \n",
            "conv3.1.weight                        torch.Size([32])       \n",
            "conv3.1.bias                          torch.Size([32])       \n",
            "conv3.1.running_mean                  torch.Size([32])       \n",
            "conv3.1.running_var                   torch.Size([32])       \n",
            "conv3.1.num_batches_tracked            torch.Size([])        \n",
            "fc1.weight                         torch.Size([120, 288])    \n",
            "fc1.bias                             torch.Size([120])       \n",
            "fc2.weight                         torch.Size([84, 120])     \n",
            "fc2.bias                              torch.Size([84])       \n",
            "fc3.weight                          torch.Size([10, 84])     \n",
            "fc3.bias                              torch.Size([10])       \n",
            "============================================================\n"
          ]
        }
      ]
    },
    {
      "cell_type": "markdown",
      "metadata": {
        "id": "WpctRBc2LyL5"
      },
      "source": [
        "6. Loss Function & Optimizer Setting"
      ]
    },
    {
      "cell_type": "code",
      "metadata": {
        "id": "brIwI-kFEIi-"
      },
      "source": [
        "import torch.optim as optim\n",
        "\n",
        "criterion = nn.CrossEntropyLoss()\n",
        "optimizer = optim.Adam(model.parameters(), lr = learning_rate)"
      ],
      "execution_count": null,
      "outputs": []
    },
    {
      "cell_type": "markdown",
      "metadata": {
        "id": "XYlvpRtRNklk"
      },
      "source": [
        "7. Train / Test"
      ]
    },
    {
      "cell_type": "code",
      "metadata": {
        "colab": {
          "base_uri": "https://localhost:8080/"
        },
        "id": "aFrTs2_WNbrh",
        "outputId": "1ad69108-73a6-47d8-9a4b-a7ea8fc15111"
      },
      "source": [
        "total_step = len(trainloader)\n",
        "loss_list = []\n",
        "\n",
        "# Train\n",
        "for epoch in range(num_epochs):\n",
        "  for i, (images, labels) in enumerate(trainloader,0):\n",
        "    # Assign Tensors to Configured Device\n",
        "    images = images.to(device)\n",
        "    labels = labels.to(device)\n",
        "\n",
        "    # Forward Propagation\n",
        "    outputs = model(images)\n",
        "\n",
        "    # Get Loss, Compute Gradient, Update Parameters\n",
        "    loss = criterion(outputs, labels)\n",
        "    optimizer.zero_grad()\n",
        "    loss.backward()\n",
        "    optimizer.step()\n",
        "\n",
        "    # Append loss to plot graph\n",
        "    loss_list.append(loss)\n",
        "\n",
        "    # Print Loss for Tracking Training\n",
        "    if (i+1) % 2000 == 0:\n",
        "      acc = 0\n",
        "      test_image, test_label = next(iter(testloader))\n",
        "      _, test_predicted = torch.max(model(test_image.to(device)).data, 1)\n",
        "\n",
        "      for (pred, ans) in zip(test_predicted, test_label):\n",
        "        if pred == ans:\n",
        "          acc += 1\n",
        "      acc = acc / len(test_predicted)\n",
        "\n",
        "      print('Epoch [{}/{}], Loss: {:.4f}, Accuracy: {:.1f}%'.format(epoch+1,num_epochs,loss.item(), acc*100))\n",
        "      print('Testing data: [Predicted: {} / Real: {}]'.format(test_predicted, test_label))\n",
        "\n",
        "  if epoch+1 == num_epochs:\n",
        "    torch.save(model.state_dict(), 'model.pth')\n",
        "  else:\n",
        "    torch.save(model.state_dict(), 'model-{:02d}_epochs.pth'.format(epoch+1))"
      ],
      "execution_count": null,
      "outputs": [
        {
          "output_type": "stream",
          "name": "stdout",
          "text": [
            "Epoch [1/10], Loss: 1.8633, Accuracy: 81.2%\n",
            "Testing data: [Predicted: tensor([3, 8, 8, 0, 6, 6, 9, 6, 3, 1, 0, 9, 6, 7, 9, 0]) / Real: tensor([3, 8, 8, 0, 6, 6, 1, 6, 3, 1, 0, 9, 5, 7, 9, 8])]\n",
            "Epoch [2/10], Loss: 1.2242, Accuracy: 62.5%\n",
            "Testing data: [Predicted: tensor([3, 8, 8, 0, 2, 6, 5, 6, 5, 1, 0, 9, 2, 7, 1, 4]) / Real: tensor([3, 8, 8, 0, 6, 6, 1, 6, 3, 1, 0, 9, 5, 7, 9, 8])]\n",
            "Epoch [3/10], Loss: 1.3936, Accuracy: 75.0%\n",
            "Testing data: [Predicted: tensor([3, 8, 8, 0, 4, 6, 1, 2, 3, 1, 0, 9, 6, 7, 9, 0]) / Real: tensor([3, 8, 8, 0, 6, 6, 1, 6, 3, 1, 0, 9, 5, 7, 9, 8])]\n",
            "Epoch [4/10], Loss: 1.2093, Accuracy: 87.5%\n",
            "Testing data: [Predicted: tensor([3, 8, 8, 0, 6, 6, 1, 2, 3, 1, 0, 9, 6, 7, 9, 8]) / Real: tensor([3, 8, 8, 0, 6, 6, 1, 6, 3, 1, 0, 9, 5, 7, 9, 8])]\n",
            "Epoch [5/10], Loss: 0.8430, Accuracy: 75.0%\n",
            "Testing data: [Predicted: tensor([3, 8, 8, 0, 4, 6, 1, 2, 3, 1, 5, 9, 4, 7, 9, 8]) / Real: tensor([3, 8, 8, 0, 6, 6, 1, 6, 3, 1, 0, 9, 5, 7, 9, 8])]\n",
            "Epoch [6/10], Loss: 1.3874, Accuracy: 75.0%\n",
            "Testing data: [Predicted: tensor([3, 8, 8, 0, 6, 6, 1, 2, 3, 1, 5, 9, 1, 5, 9, 8]) / Real: tensor([3, 8, 8, 0, 6, 6, 1, 6, 3, 1, 0, 9, 5, 7, 9, 8])]\n",
            "Epoch [7/10], Loss: 0.7758, Accuracy: 75.0%\n",
            "Testing data: [Predicted: tensor([3, 8, 8, 0, 4, 6, 1, 2, 3, 1, 5, 9, 4, 7, 9, 8]) / Real: tensor([3, 8, 8, 0, 6, 6, 1, 6, 3, 1, 0, 9, 5, 7, 9, 8])]\n",
            "Epoch [8/10], Loss: 0.6074, Accuracy: 68.8%\n",
            "Testing data: [Predicted: tensor([3, 8, 0, 0, 4, 6, 1, 2, 3, 1, 5, 9, 4, 7, 9, 8]) / Real: tensor([3, 8, 8, 0, 6, 6, 1, 6, 3, 1, 0, 9, 5, 7, 9, 8])]\n",
            "Epoch [9/10], Loss: 0.6912, Accuracy: 68.8%\n",
            "Testing data: [Predicted: tensor([3, 8, 0, 0, 4, 6, 1, 2, 3, 1, 5, 9, 6, 7, 9, 8]) / Real: tensor([3, 8, 8, 0, 6, 6, 1, 6, 3, 1, 0, 9, 5, 7, 9, 8])]\n",
            "Epoch [10/10], Loss: 0.8980, Accuracy: 75.0%\n",
            "Testing data: [Predicted: tensor([3, 8, 8, 0, 4, 6, 1, 2, 3, 1, 5, 9, 4, 7, 9, 8]) / Real: tensor([3, 8, 8, 0, 6, 6, 1, 6, 3, 1, 0, 9, 5, 7, 9, 8])]\n"
          ]
        }
      ]
    },
    {
      "cell_type": "code",
      "metadata": {
        "id": "wM8tZbDIReZv",
        "colab": {
          "base_uri": "https://localhost:8080/",
          "height": 281
        },
        "outputId": "c99e5079-c287-414f-cd97-f9f0e86c6a1a"
      },
      "source": [
        "plt.plot(loss_list)\n",
        "plt.title(\"Train loss\")\n",
        "plt.show()"
      ],
      "execution_count": null,
      "outputs": [
        {
          "output_type": "display_data",
          "data": {
            "image/png": "[encoded data removed]",
            "text/plain": [
              "<Figure size 432x288 with 1 Axes>"
            ]
          },
          "metadata": {
            "needs_background": "light"
          }
        }
      ]
    }
  ]
}